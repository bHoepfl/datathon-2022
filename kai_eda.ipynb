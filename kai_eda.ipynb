{
 "cells": [
  {
   "cell_type": "code",
   "execution_count": 130,
   "metadata": {},
   "outputs": [],
   "source": [
    "import pandas as pd \n",
    "import matplotlib.pyplot as plt \n",
    "import seaborn as sns\n",
    "import numpy as np\n",
    "import json"
   ]
  },
  {
   "cell_type": "code",
   "execution_count": 131,
   "metadata": {},
   "outputs": [],
   "source": [
    "path = \"bill_challenge_datasets\""
   ]
  },
  {
   "cell_type": "code",
   "execution_count": 135,
   "metadata": {},
   "outputs": [],
   "source": [
    "edges_df = pd.read_csv(path + \"/Training/training_graph.csv\")\n",
    "isolated_nodes_df = pd.read_csv(path + \"/Training/isolated_nodes.csv\")\n",
    "node_class_df = pd.read_csv(path + \"/Training/node_classification.csv\")\n",
    "test_df = pd.read_csv(path + \"/Test Dataset/test_edges.csv\")\n",
    "with open(path + \"/Training/node_features_text.json\") as json_file:\n",
    "    text = json.load(json_file)"
   ]
  },
  {
   "cell_type": "code",
   "execution_count": 136,
   "metadata": {},
   "outputs": [],
   "source": [
    "# Compute the unique nodes and number of edges for every node\n",
    "nodes = set(edges_df.to_numpy().flatten())\n",
    "nodes = list(nodes)\n",
    "nodes_count = np.bincount(edges_df.to_numpy().flatten())\n",
    "\n",
    "# Compute the degree of the nodes \n",
    "nodes_deg = []\n",
    "for node in nodes: \n",
    "        nodes_deg.append(nodes_count[node])\n",
    "\n",
    "graph_df = pd.DataFrame({'Nodes': nodes, \"Degrees\": nodes_deg})\n",
    "graph_df = graph_df.join(node_class_df).drop(columns = [\"id\"])\n",
    "\n",
    "graph_df = graph_df.set_index(\"Nodes\", drop=True)"
   ]
  },
  {
   "cell_type": "code",
   "execution_count": 137,
   "metadata": {},
   "outputs": [
    {
     "data": {
      "text/html": [
       "<div>\n",
       "<style scoped>\n",
       "    .dataframe tbody tr th:only-of-type {\n",
       "        vertical-align: middle;\n",
       "    }\n",
       "\n",
       "    .dataframe tbody tr th {\n",
       "        vertical-align: top;\n",
       "    }\n",
       "\n",
       "    .dataframe thead th {\n",
       "        text-align: right;\n",
       "    }\n",
       "</style>\n",
       "<table border=\"1\" class=\"dataframe\">\n",
       "  <thead>\n",
       "    <tr style=\"text-align: right;\">\n",
       "      <th></th>\n",
       "      <th>Degrees</th>\n",
       "      <th>page_type</th>\n",
       "    </tr>\n",
       "  </thead>\n",
       "  <tbody>\n",
       "    <tr>\n",
       "      <th>count</th>\n",
       "      <td>20816.000000</td>\n",
       "      <td>20816.000000</td>\n",
       "    </tr>\n",
       "    <tr>\n",
       "      <th>mean</th>\n",
       "      <td>12.686203</td>\n",
       "      <td>2.655938</td>\n",
       "    </tr>\n",
       "    <tr>\n",
       "      <th>std</th>\n",
       "      <td>21.972630</td>\n",
       "      <td>1.016412</td>\n",
       "    </tr>\n",
       "    <tr>\n",
       "      <th>min</th>\n",
       "      <td>1.000000</td>\n",
       "      <td>1.000000</td>\n",
       "    </tr>\n",
       "    <tr>\n",
       "      <th>25%</th>\n",
       "      <td>2.000000</td>\n",
       "      <td>2.000000</td>\n",
       "    </tr>\n",
       "    <tr>\n",
       "      <th>50%</th>\n",
       "      <td>6.000000</td>\n",
       "      <td>3.000000</td>\n",
       "    </tr>\n",
       "    <tr>\n",
       "      <th>75%</th>\n",
       "      <td>14.000000</td>\n",
       "      <td>4.000000</td>\n",
       "    </tr>\n",
       "    <tr>\n",
       "      <th>max</th>\n",
       "      <td>577.000000</td>\n",
       "      <td>4.000000</td>\n",
       "    </tr>\n",
       "  </tbody>\n",
       "</table>\n",
       "</div>"
      ],
      "text/plain": [
       "            Degrees     page_type\n",
       "count  20816.000000  20816.000000\n",
       "mean      12.686203      2.655938\n",
       "std       21.972630      1.016412\n",
       "min        1.000000      1.000000\n",
       "25%        2.000000      2.000000\n",
       "50%        6.000000      3.000000\n",
       "75%       14.000000      4.000000\n",
       "max      577.000000      4.000000"
      ]
     },
     "execution_count": 137,
     "metadata": {},
     "output_type": "execute_result"
    }
   ],
   "source": [
    "graph_df.describe()"
   ]
  },
  {
   "cell_type": "code",
   "execution_count": 138,
   "metadata": {},
   "outputs": [
    {
     "data": {
      "text/plain": [
       "<AxesSubplot:xlabel='Degrees', ylabel='Count'>"
      ]
     },
     "execution_count": 138,
     "metadata": {},
     "output_type": "execute_result"
    },
    {
     "data": {
      "image/png": "[encoded data removed]",
      "text/plain": [
       "<Figure size 432x288 with 1 Axes>"
      ]
     },
     "metadata": {},
     "output_type": "display_data"
    }
   ],
   "source": [
    "# Since most nodes have a degree below 100 let us only examine those for visualization purposes\n",
    "\n",
    "graph_df_significant = graph_df[graph_df.Degrees <= 100]\n",
    "sns.histplot(graph_df_significant, x = \"Degrees\", hue = \"page_type\")\n"
   ]
  },
  {
   "cell_type": "code",
   "execution_count": 139,
   "metadata": {},
   "outputs": [],
   "source": [
    "def convert_to_one_hot(x): \n",
    "        x = np.array(x)\n",
    "        y = np.zeros((x.size, 5000))\n",
    "        y[np.arange(x.size), x] = 1\n",
    "        return y.sum(axis = 0)\n",
    "\n",
    "# One-hot encoded dictionary such that every ID maps to the 5000-length vector\n",
    "one_hot_vec_text = {int(key): convert_to_one_hot(value) for key, value in text.items()} \n",
    "\n",
    "# Combine the one-hot encoding into one matrix\n",
    "one_hot_mat = []\n",
    "for vec in one_hot_vec_text.values(): \n",
    "        one_hot_mat.append(vec)\n",
    "one_hot_matrix = np.array(one_hot_mat)"
   ]
  },
  {
   "cell_type": "code",
   "execution_count": null,
   "metadata": {},
   "outputs": [],
   "source": []
  }
 ],
 "metadata": {
  "interpreter": {
   "hash": "3067ead486e059ec00ffe7555bdb889e6e264a24dc711bf108106cc7baee8d5d"
  },
  "kernelspec": {
   "display_name": "Python 3.8.8 64-bit ('base': conda)",
   "language": "python",
   "name": "python3"
  },
  "language_info": {
   "codemirror_mode": {
    "name": "ipython",
    "version": 3
   },
   "file_extension": ".py",
   "mimetype": "text/x-python",
   "name": "python",
   "nbconvert_exporter": "python",
   "pygments_lexer": "ipython3",
   "version": "3.8.8"
  },
  "orig_nbformat": 4
 },
 "nbformat": 4,
 "nbformat_minor": 2
}
